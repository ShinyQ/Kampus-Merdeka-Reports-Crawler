{
 "cells": [
  {
   "cell_type": "markdown",
   "metadata": {},
   "source": [
    "# Studi Independen Crawler"
   ]
  },
  {
   "cell_type": "markdown",
   "metadata": {},
   "source": [
    "## Step 1: Credential Prerequisite\n",
    "\n",
    "Before you begin using this script. Please create `.env` file from the template `.env.example`. After creating that file, please fill your Kampus Merdeka email and password to the `.env` file."
   ]
  },
  {
   "cell_type": "markdown",
   "metadata": {},
   "source": [
    "## Step 2: Installing library"
   ]
  },
  {
   "cell_type": "code",
   "execution_count": null,
   "metadata": {},
   "outputs": [],
   "source": [
    "!pip install python-dotenv pandas requests openpyxl"
   ]
  },
  {
   "cell_type": "code",
   "execution_count": null,
   "metadata": {},
   "outputs": [],
   "source": [
    "from dotenv import dotenv_values\n",
    "from datetime import timedelta, datetime\n",
    "\n",
    "import pandas as pd\n",
    "import requests\n",
    "import locale"
   ]
  },
  {
   "cell_type": "markdown",
   "metadata": {},
   "source": [
    "## Step 3: Login to Kampus Merdeka"
   ]
  },
  {
   "cell_type": "code",
   "execution_count": null,
   "metadata": {},
   "outputs": [],
   "source": [
    "config = dotenv_values(\".env\")\n",
    "locale.setlocale(locale.LC_ALL, \"id\")\n",
    "\n",
    "def login() -> str:\n",
    "    try:\n",
    "        url = 'https://api.kampusmerdeka.kemdikbud.go.id/user/auth/login/mbkm'\n",
    "        headers = {'User-Agent': 'Mozilla/5.0 (Macintosh; Intel Mac OS X 10_11_5) AppleWebKit/537.36 (KHTML, like Gecko) Chrome/50.0.2661.102 Safari/537.36'}\n",
    "        obj = {\n",
    "            'email': config.get('EMAIL'),\n",
    "            'password': config.get('PASSWORD')\n",
    "        }\n",
    "        response = requests.post(url, json=obj, headers=headers)\n",
    "        token = response.json()['data'].get('access_token')\n",
    "    except Exception:\n",
    "        raise ValueError(response.json()[\"error\"][\"message\"])\n",
    "    return token\n",
    "\n",
    "token = login()\n",
    "headers = dict()\n",
    "headers[\"Accept\"] = \"application/json\"\n",
    "headers[\"Authorization\"] = f'Bearer {token}'\n",
    "headers['User-Agent'] = 'Mozilla/5.0 (Macintosh; Intel Mac OS X 10_11_5) AppleWebKit/537.36 (KHTML, like Gecko) Chrome/50.0.2661.102 Safari/537.36'\n",
    "print(\"Login success\")"
   ]
  },
  {
   "cell_type": "markdown",
   "metadata": {},
   "source": [
    "## Step 4: Choose your Kampus Merdeka Studi Independen Activity"
   ]
  },
  {
   "cell_type": "code",
   "execution_count": null,
   "metadata": {},
   "outputs": [],
   "source": [
    "def get_activity_id():\n",
    "    url =  \"https://api.kampusmerdeka.kemdikbud.go.id/mbkm/mahasiswa/activities\"\n",
    "    response = requests.get(url, headers=headers)\n",
    "    \n",
    "    activities = response.json().get('data')\n",
    "    \n",
    "    print(\"Your Studi Independen activities\")\n",
    "    for i in range(len(activities)):\n",
    "        activity = activities[i][\"nama_kegiatan\"]\n",
    "        print(f\"{i+1}. {activity}\")\n",
    "    input_num = int(input(\"Choose your activity from number above: \"))\n",
    "    return activities[input_num - 1][\"id\"]\n",
    "        \n",
    "activity_id = get_activity_id()\n",
    "print(f\"Got Activity Id : {activity_id}\")"
   ]
  },
  {
   "cell_type": "markdown",
   "metadata": {},
   "source": [
    "## Step 5: Get Reports"
   ]
  },
  {
   "cell_type": "code",
   "execution_count": null,
   "metadata": {},
   "outputs": [],
   "source": [
    "url = f'https://api.kampusmerdeka.kemdikbud.go.id/studi/report/allweeks/{activity_id}'\n",
    "response = requests.get(url, headers=headers)\n",
    "reports = response.json().get('data')\n",
    "\n",
    "counter_minggu_ke = 1\n",
    "\n",
    "minggu_tanggal_cols = []\n",
    "kegiatan_cols = []\n",
    "hasil_cols = []\n",
    "\n",
    "for weekly_report in reports[::-1]:\n",
    "    \n",
    "    # Handle Minggu Tanggal Cols\n",
    "    start_date = datetime.strptime(weekly_report[\"start_date\"], \"%Y-%m-%dT%H:%M:%SZ\")\n",
    "    end_date = datetime.strptime(weekly_report[\"end_date\"], \"%Y-%m-%dT%H:%M:%SZ\")\n",
    "    start_date_str = start_date.strftime(\"%d %B %Y\")\n",
    "    end_date_str = end_date.strftime(\"%d %B %Y\")\n",
    "    minggu_tanggal = f\"Minggu ke-{counter_minggu_ke} \\n({start_date_str} - {end_date_str})\"\n",
    "    minggu_tanggal_cols.append(minggu_tanggal)\n",
    "    counter_minggu_ke += 1\n",
    "    \n",
    "    # Handle Kegiatan Cols\n",
    "    daily_reports = weekly_report[\"daily_report\"]\n",
    "    counter = 1\n",
    "    final_kegiatan_str = \"\"\n",
    "    for daily_report in daily_reports:\n",
    "        report = daily_report[\"report\"]\n",
    "        final_kegiatan_str += f\"{counter}. {report} \\n\"\n",
    "        counter += 1\n",
    "    kegiatan_cols.append(final_kegiatan_str)\n",
    "    \n",
    "    # Handle Hasil Cols\n",
    "    hasil_cols.append(weekly_report[\"learned_weekly\"])\n",
    "\n",
    "reports = pd.DataFrame({\n",
    "    \"Minggu/Tgl\" : minggu_tanggal_cols,\n",
    "    \"Kegiatan Harian\": kegiatan_cols,\n",
    "    \"Laporan Mingguan\": hasil_cols\n",
    "})"
   ]
  },
  {
   "cell_type": "code",
   "execution_count": null,
   "metadata": {},
   "outputs": [],
   "source": [
    "reports"
   ]
  },
  {
   "cell_type": "markdown",
   "metadata": {},
   "source": [
    "## Step 6: Output to Files"
   ]
  },
  {
   "cell_type": "code",
   "execution_count": null,
   "metadata": {},
   "outputs": [],
   "source": [
    "def output_files(df: pd.DataFrame):\n",
    "    output_types = [\"csv\", \"excel\"]\n",
    "    print(\"Output Types\")\n",
    "    for i in range(len(output_types)):\n",
    "        output_type = output_types[i]\n",
    "        print(f\"{i+1}. {output_type}\")\n",
    "    input_num = int(input(\"Choose your output type from number above: \")) - 1\n",
    "    \n",
    "    if input_num == 0:\n",
    "        df.to_csv(\"./reports.csv\",index=False)\n",
    "    elif input_num == 1:\n",
    "        df.to_excel(\"./reports.xlsx\", index=False)\n",
    "    else:\n",
    "        raise ValueError(\"Not a valid input\")\n",
    "\n",
    "    print(f\"Creating {output_types[input_num]} with a file name `reports`\")\n",
    "    \n",
    "output_files(reports)"
   ]
  }
 ],
 "metadata": {
  "kernelspec": {
   "display_name": "Python 3.8.0 64-bit",
   "language": "python",
   "name": "python3"
  },
  "language_info": {
   "codemirror_mode": {
    "name": "ipython",
    "version": 3
   },
   "file_extension": ".py",
   "mimetype": "text/x-python",
   "name": "python",
   "nbconvert_exporter": "python",
   "pygments_lexer": "ipython3",
   "version": "3.8.0"
  },
  "orig_nbformat": 4,
  "vscode": {
   "interpreter": {
    "hash": "570feb405e2e27c949193ac68f46852414290d515b0ba6e5d90d076ed2284471"
   }
  }
 },
 "nbformat": 4,
 "nbformat_minor": 2
}
