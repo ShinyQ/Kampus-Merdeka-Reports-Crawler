{
 "cells": [
  {
   "cell_type": "code",
   "execution_count": 104,
   "metadata": {},
   "outputs": [
    {
     "data": {
      "text/plain": [
       "'id'"
      ]
     },
     "execution_count": 104,
     "metadata": {},
     "output_type": "execute_result"
    }
   ],
   "source": [
    "from dotenv import dotenv_values\n",
    "from datetime import timedelta, datetime\n",
    "\n",
    "import pandas as pd\n",
    "import requests\n",
    "import locale\n",
    "\n",
    "config = dotenv_values(\".env\")\n",
    "locale.setlocale(locale.LC_ALL, \"id\")"
   ]
  },
  {
   "cell_type": "code",
   "execution_count": 105,
   "metadata": {},
   "outputs": [],
   "source": [
    "url = 'https://api.kampusmerdeka.kemdikbud.go.id/user/auth/login/mbkm'\n",
    "headers = {'User-Agent': 'Mozilla/5.0 (Macintosh; Intel Mac OS X 10_11_5) AppleWebKit/537.36 (KHTML, like Gecko) Chrome/50.0.2661.102 Safari/537.36'}\n",
    "obj = {\n",
    "    'email': config.get('EMAIL'),\n",
    "    'password': config.get('PASSWORD')\n",
    "}\n",
    "\n",
    "response = requests.post(url, json=obj, headers=headers)\n",
    "token = response.json()['data'].get('access_token')"
   ]
  },
  {
   "cell_type": "code",
   "execution_count": 106,
   "metadata": {},
   "outputs": [],
   "source": [
    "headers = dict()\n",
    "headers[\"Accept\"] = \"application/json\"\n",
    "headers[\"Authorization\"] = f'Bearer {token}'\n",
    "headers['User-Agent'] = 'Mozilla/5.0 (Macintosh; Intel Mac OS X 10_11_5) AppleWebKit/537.36 (KHTML, like Gecko) Chrome/50.0.2661.102 Safari/537.36'"
   ]
  },
  {
   "cell_type": "code",
   "execution_count": 107,
   "metadata": {},
   "outputs": [],
   "source": [
    "url =  \"https://api.kampusmerdeka.kemdikbud.go.id/mbkm/mahasiswa/active-activities/my\"\n",
    "response = requests.get(url, headers=headers)\n",
    "activity_id = response.json().get('data')[0].get('id')\n"
   ]
  },
  {
   "cell_type": "code",
   "execution_count": 108,
   "metadata": {},
   "outputs": [],
   "source": [
    "url = f'https://api.kampusmerdeka.kemdikbud.go.id/magang/report/allweeks/{activity_id}'\n",
    "response = requests.get(url, headers=headers)\n",
    "reports = response.json().get('data')"
   ]
  },
  {
   "cell_type": "code",
   "execution_count": 110,
   "metadata": {},
   "outputs": [],
   "source": [
    "weekly_reports = []\n",
    "daily_reports = []\n",
    "\n",
    "for report in reversed(list(reports)):\n",
    "    date = report.get('start_date')[0:10]\n",
    "    date =  datetime.strptime(date, '%Y-%m-%d')\n",
    "\n",
    "    date_format = date.strftime(\"%d %B %Y\")\n",
    "    date_format = date_format.split()\n",
    "\n",
    "    weekly_reports.append([report.get(\"learned_weekly\"), f\"{date_format[1]} {date_format[2]}\"])\n",
    "\n",
    "    for j, daily_report in enumerate(report.get('daily_report')):\n",
    "        if j == 0:\n",
    "            dt = date \n",
    "        else:\n",
    "            dt = dt + timedelta(days=1)\n",
    "\n",
    "        d = dt.strftime(\"%A, %d %B %Y\")\n",
    "        daily_reports.append([daily_report.get('report'), d])"
   ]
  },
  {
   "cell_type": "code",
   "execution_count": 111,
   "metadata": {},
   "outputs": [
    {
     "data": {
      "text/html": [
       "<div>\n",
       "<style scoped>\n",
       "    .dataframe tbody tr th:only-of-type {\n",
       "        vertical-align: middle;\n",
       "    }\n",
       "\n",
       "    .dataframe tbody tr th {\n",
       "        vertical-align: top;\n",
       "    }\n",
       "\n",
       "    .dataframe thead th {\n",
       "        text-align: right;\n",
       "    }\n",
       "</style>\n",
       "<table border=\"1\" class=\"dataframe\">\n",
       "  <thead>\n",
       "    <tr style=\"text-align: right;\">\n",
       "      <th></th>\n",
       "      <th>Deskripsi</th>\n",
       "      <th>Bulan</th>\n",
       "    </tr>\n",
       "  </thead>\n",
       "  <tbody>\n",
       "    <tr>\n",
       "      <th>12</th>\n",
       "      <td>Pada minggu ini masih berfokus untuk menangani...</td>\n",
       "      <td>November 2021</td>\n",
       "    </tr>\n",
       "    <tr>\n",
       "      <th>13</th>\n",
       "      <td>Pada minggu ini team backend berfokus untuk me...</td>\n",
       "      <td>November 2021</td>\n",
       "    </tr>\n",
       "    <tr>\n",
       "      <th>14</th>\n",
       "      <td>Pada minggu ini team backend berfokus kepada p...</td>\n",
       "      <td>November 2021</td>\n",
       "    </tr>\n",
       "  </tbody>\n",
       "</table>\n",
       "</div>"
      ],
      "text/plain": [
       "                                            Deskripsi          Bulan\n",
       "12  Pada minggu ini masih berfokus untuk menangani...  November 2021\n",
       "13  Pada minggu ini team backend berfokus untuk me...  November 2021\n",
       "14  Pada minggu ini team backend berfokus kepada p...  November 2021"
      ]
     },
     "execution_count": 111,
     "metadata": {},
     "output_type": "execute_result"
    }
   ],
   "source": [
    "df_weekly = pd.DataFrame(weekly_reports, columns=['Deskripsi', 'Bulan'])\n",
    "df_weekly[12:15]"
   ]
  },
  {
   "cell_type": "code",
   "execution_count": 112,
   "metadata": {},
   "outputs": [
    {
     "data": {
      "text/html": [
       "<div>\n",
       "<style scoped>\n",
       "    .dataframe tbody tr th:only-of-type {\n",
       "        vertical-align: middle;\n",
       "    }\n",
       "\n",
       "    .dataframe tbody tr th {\n",
       "        vertical-align: top;\n",
       "    }\n",
       "\n",
       "    .dataframe thead th {\n",
       "        text-align: right;\n",
       "    }\n",
       "</style>\n",
       "<table border=\"1\" class=\"dataframe\">\n",
       "  <thead>\n",
       "    <tr style=\"text-align: right;\">\n",
       "      <th></th>\n",
       "      <th>Deskripsi</th>\n",
       "      <th>Hari</th>\n",
       "    </tr>\n",
       "  </thead>\n",
       "  <tbody>\n",
       "    <tr>\n",
       "      <th>35</th>\n",
       "      <td>Membuat Endpoint (Terdiri Atas Model, Controll...</td>\n",
       "      <td>Senin, 11 Oktober 2021</td>\n",
       "    </tr>\n",
       "    <tr>\n",
       "      <th>36</th>\n",
       "      <td>Mengerjakan CRUD (Create Read Update Delete) y...</td>\n",
       "      <td>Selasa, 12 Oktober 2021</td>\n",
       "    </tr>\n",
       "    <tr>\n",
       "      <th>37</th>\n",
       "      <td>Melakukan testing dan evaluasi setiap endpoint...</td>\n",
       "      <td>Rabu, 13 Oktober 2021</td>\n",
       "    </tr>\n",
       "  </tbody>\n",
       "</table>\n",
       "</div>"
      ],
      "text/plain": [
       "                                            Deskripsi                     Hari\n",
       "35  Membuat Endpoint (Terdiri Atas Model, Controll...   Senin, 11 Oktober 2021\n",
       "36  Mengerjakan CRUD (Create Read Update Delete) y...  Selasa, 12 Oktober 2021\n",
       "37  Melakukan testing dan evaluasi setiap endpoint...    Rabu, 13 Oktober 2021"
      ]
     },
     "execution_count": 112,
     "metadata": {},
     "output_type": "execute_result"
    }
   ],
   "source": [
    "df_daily = pd.DataFrame(daily_reports, columns=['Deskripsi', 'Hari'])\n",
    "df_daily[35:38]"
   ]
  },
  {
   "cell_type": "code",
   "execution_count": 113,
   "metadata": {},
   "outputs": [],
   "source": [
    "df_weekly.to_csv('Weekly Report.csv', index=False)\n",
    "df_daily.to_csv('Daily Report.csv', index=False)"
   ]
  }
 ],
 "metadata": {
  "interpreter": {
   "hash": "2bf746931fd58f1246b6df4740a30aa94cbb7406c646ac7ef817c7ae9c273626"
  },
  "kernelspec": {
   "display_name": "Python 3.9.0 64-bit",
   "language": "python",
   "name": "python3"
  },
  "language_info": {
   "codemirror_mode": {
    "name": "ipython",
    "version": 3
   },
   "file_extension": ".py",
   "mimetype": "text/x-python",
   "name": "python",
   "nbconvert_exporter": "python",
   "pygments_lexer": "ipython3",
   "version": "3.10.2"
  },
  "orig_nbformat": 4
 },
 "nbformat": 4,
 "nbformat_minor": 2
}
